{
 "cells": [
  {
   "cell_type": "code",
   "execution_count": 74,
   "metadata": {},
   "outputs": [],
   "source": [
    "import tushare as ts\n",
    "import pandas as pd\n",
    "import numpy as np"
   ]
  },
  {
   "cell_type": "code",
   "execution_count": 75,
   "metadata": {},
   "outputs": [],
   "source": [
    "data = ts.get_hist_data('600497')\n",
    "m =data"
   ]
  },
  {
   "cell_type": "code",
   "execution_count": 76,
   "metadata": {},
   "outputs": [
    {
     "name": "stdout",
     "output_type": "stream",
     "text": [
      "obv: 695\n"
     ]
    }
   ],
   "source": [
    "#OBV线（成交量多空比率净额法）\n",
    "obv = m.volume*((m.close-m.low)-(m.high-m.close))/(m.high-m.close)\n",
    "obv = obv.fillna(0.0)\n",
    "obv.apply(np.cumsum)\n",
    "print('obv:',len(obv))"
   ]
  },
  {
   "cell_type": "code",
   "execution_count": 77,
   "metadata": {},
   "outputs": [],
   "source": [
    "#MACD\n",
    "ema12 = m.close.copy()               \n",
    "ema26 = ema12.copy()              \n",
    "for k in range(1,len(m)): ema12[k] = (ema12[k-1]*11 + ema12[k]*2)/13.0\n",
    "for k in range(1,len(m)): ema26[k] = (ema26[k-1]*25 + ema26[k]*2)/27.0\n",
    "dif = ema12-ema26\n",
    "dea = dif.copy()\n",
    "for k in range(1,len(dea)): dea[k] = (dea[k-1]*8 + dea[k]*2)/10.0\n",
    "macd = dif-dea"
   ]
  },
  {
   "cell_type": "code",
   "execution_count": 78,
   "metadata": {},
   "outputs": [],
   "source": [
    "#rsi指标（统计近段时间收盘涨数和跌数来判断买卖意向）\n",
    "n=6\n",
    "rsi = m.p_change.copy()\n",
    "rsi.apply(np.sign)\n",
    "rsi = rsi.rolling(center=False,window=n).mean()"
   ]
  },
  {
   "cell_type": "code",
   "execution_count": 100,
   "metadata": {},
   "outputs": [],
   "source": [
    "#AR BR CR 指标          \n",
    "refVa = m.open[1:].values           #Ar\n",
    "refVb = m.close[:-1].values          #BR\n",
    "refVc = (2*m.close[:-1] + m.high[:-1] +m.low[:-1]).values /4     #CR\n",
    "ref = np.median([refVa, refVb, refVc])\n",
    "a = m.high[1:] - ref\n",
    "b = ref - m.low[1:]\n",
    "\n",
    "c = a.rolling(26).sum()\n",
    "d = b.rolling(26).sum()\n",
    "cr = c/d"
   ]
  },
  {
   "cell_type": "code",
   "execution_count": 95,
   "metadata": {},
   "outputs": [],
   "source": [
    "#kdj 指标\n",
    "n = 5\n",
    "Ln =  m.low.rolling(n).min()\n",
    "Hn =  m.high.rolling(n).max()\n",
    "rsv = (m.close-Ln)/(Hn-Ln)\n",
    "para1 = para2 = 1.0/3\n",
    "\n",
    "K = rsv.copy()\n",
    "K = K.fillna(0.0)\n",
    "for k in range(1,len(K)): K[k] = K[k-1]*(1-para1) + K[k]*para1\n",
    "D = K.copy()\n",
    "for k in range(1,len(D)): D[k] = D[k-1]*(1-para2) + D[k]*para2"
   ]
  },
  {
   "cell_type": "code",
   "execution_count": 103,
   "metadata": {},
   "outputs": [],
   "source": [
    "#cci 顺势指标\n",
    "n= 10\n",
    "ma = m.close.rolling(n).mean()\n",
    "md = (ma-m.close).abs().rolling(n).mean()\n",
    "cci = ((m.close+m.high+m.low)/3 -ma)/md/0.015"
   ]
  },
  {
   "cell_type": "code",
   "execution_count": 112,
   "metadata": {},
   "outputs": [
    {
     "name": "stderr",
     "output_type": "stream",
     "text": [
      "C:\\Python\\Python36\\Lib\\site-packages\\ipykernel_launcher.py:3: FutureWarning: Currently, 'apply' passes the values as ndarrays to the applied function. In the future, this will change to passing it as Series objects. You need to specify 'raw=True' to keep the current behaviour, and you can pass 'raw=False' to silence this warning\n",
      "  This is separate from the ipykernel package so we can avoid doing imports until\n",
      "C:\\Python\\Python36\\Lib\\site-packages\\ipykernel_launcher.py:4: FutureWarning: Currently, 'apply' passes the values as ndarrays to the applied function. In the future, this will change to passing it as Series objects. You need to specify 'raw=True' to keep the current behaviour, and you can pass 'raw=False' to silence this warning\n",
      "  after removing the cwd from sys.path.\n"
     ]
    }
   ],
   "source": [
    "#DMI指标\n",
    "n=12\n",
    "dm1 = m.high.rolling(2).apply(lambda d:max(d[1]-d[0],0.0))[1:]\n",
    "dm2 = m.high.rolling(2).apply(lambda d:max(d[0]-d[1],0.0))[1:]\n",
    "\n",
    "dm1[dm1<dm2] = 0\n",
    "dm2[dm2<dm1] = 0\n",
    "\n",
    "tr = (m.high-m.low).abs().values[1:], m.high[1:]-m.close[:-1].abs().values, m.low[1:]-m.close[:-1].abs().values\n",
    "tr = np.minimum(np.minimum(tr[0], tr[1]) ,tr[2])\n",
    "\n",
    "dm1 = dm1.rolling(n).mean()     \n",
    "dm2 = dm2.rolling(n).mean()       \n",
    "tr  = tr.rolling(n).mean()\n",
    "\n",
    "di1 = dm1/tr        \n",
    "di2 = dm2/tr\n",
    "\n",
    "dx = (di1-di2).abs()/(di1+di2)\n",
    "adx = dx.rolling(n).mean()"
   ]
  },
  {
   "cell_type": "code",
   "execution_count": 117,
   "metadata": {},
   "outputs": [],
   "source": [
    "#boll指标\n",
    "n=26\n",
    "ma = m.close.rolling(n).mean()\n",
    "md = m.close.rolling(n).std()\n",
    "up = ma + 2*md\n",
    "dn = ma - 2*md"
   ]
  },
  {
   "cell_type": "code",
   "execution_count": null,
   "metadata": {},
   "outputs": [],
   "source": []
  }
 ],
 "metadata": {
  "kernelspec": {
   "display_name": "Python 3",
   "language": "python",
   "name": "python3"
  },
  "language_info": {
   "codemirror_mode": {
    "name": "ipython",
    "version": 3
   },
   "file_extension": ".py",
   "mimetype": "text/x-python",
   "name": "python",
   "nbconvert_exporter": "python",
   "pygments_lexer": "ipython3",
   "version": "3.6.5"
  }
 },
 "nbformat": 4,
 "nbformat_minor": 2
}
